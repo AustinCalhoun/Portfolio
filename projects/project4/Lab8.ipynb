{
 "cells": [
  {
   "cell_type": "markdown",
   "metadata": {
    "id": "gJ3PNJT65wah"
   },
   "source": [
    "# CIS 443-01 - Analytics Programming\n",
    "## Lab 8\n",
    "__Grading ID__: SP465<br>\n",
    "__Due__: Monday, April 08 (by 11:59 PM)<br />\n",
    "__Worth__: 25 pts."
   ]
  },
  {
   "cell_type": "markdown",
   "metadata": {
    "id": "nwCG4sdQ5wal"
   },
   "source": [
    "### Directions\n",
    "In the code cell below, write Python code to accomplish the following. Using the techniques demonstrated in Section 10.16, download a data file from <a href=\"https://www.ncdc.noaa.gov/cag/city/time-series\" target=\"_blank\" rel=\"noreferrer noopener\">NOAA's Climate at a Glance</a> of high (Maximum) temperatures in Louisville, Kentucky for the month of March for all years that the data are available (1948 - 2022). Create a linear regression model using __linregress__ from SciPy. Use the model to predict the high temperature in March 2032.\n",
    "\n",
    "Test your source code and save your work before submission. (25 pts.)"
   ]
  },
  {
   "cell_type": "code",
   "execution_count": 15,
   "metadata": {
    "id": "xbPWqDTl5wan"
   },
   "outputs": [
    {
     "name": "stdout",
     "output_type": "stream",
     "text": [
      "The predicted high temperature in Louisville, KY for March 2032 is 50.33°F\n"
     ]
    }
   ],
   "source": [
    "import pandas as pd\n",
    "from scipy.stats import linregress\n",
    "\n",
    "csv_file_path = r'C:\\Desktop\\UofL\\2024 - Spring\\CIS 443\\Labs\\data.csv'\n",
    "temperature_data = pd.read_csv(csv_file_path)\n",
    "\n",
    "# Strip any leading or trailing white space\n",
    "temperature_data.columns = temperature_data.columns.str.strip()\n",
    "temperature_data['Year'] = (temperature_data['Date'] // 100).astype(int)\n",
    "\n",
    "# Performing linear regression \n",
    "slope, intercept, r_value, p_value, std_err = linregress(\n",
    "    temperature_data['Year'], temperature_data['Value']\n",
    ")\n",
    "\n",
    "# Predicting temperature using the regression model\n",
    "year_to_predict = 2032\n",
    "predicted_temp = intercept + slope * year_to_predict\n",
    "print(f\"The predicted high temperature in Louisville, KY for March 2032 is {predicted_temp:.2f}°F\")\n"
   ]
  },
  {
   "cell_type": "code",
   "execution_count": null,
   "metadata": {},
   "outputs": [],
   "source": []
  }
 ],
 "metadata": {
  "colab": {
   "collapsed_sections": [],
   "name": "Lab9.ipynb",
   "provenance": []
  },
  "kernelspec": {
   "display_name": "Python 3 (ipykernel)",
   "language": "python",
   "name": "python3"
  },
  "language_info": {
   "codemirror_mode": {
    "name": "ipython",
    "version": 3
   },
   "file_extension": ".py",
   "mimetype": "text/x-python",
   "name": "python",
   "nbconvert_exporter": "python",
   "pygments_lexer": "ipython3",
   "version": "3.11.7"
  }
 },
 "nbformat": 4,
 "nbformat_minor": 4
}
